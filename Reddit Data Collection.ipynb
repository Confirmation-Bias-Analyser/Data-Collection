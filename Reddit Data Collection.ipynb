{
 "cells": [
  {
   "cell_type": "code",
   "execution_count": 1,
   "id": "8253a440",
   "metadata": {},
   "outputs": [],
   "source": [
    "import requests"
   ]
  },
  {
   "cell_type": "code",
   "execution_count": 2,
   "id": "461b8338",
   "metadata": {},
   "outputs": [],
   "source": [
    "# note that CLIENT_ID refers to 'personal use script' and SECRET_TOKEN to 'token'\n",
    "auth = requests.auth.HTTPBasicAuth('ZxIt41xrgWxSqP6Z2HSaZw', '_jIrfJZKIzz9KhNHY_4Lp_k_7heU4Q')"
   ]
  },
  {
   "cell_type": "code",
   "execution_count": 3,
   "id": "a8cb505f",
   "metadata": {},
   "outputs": [],
   "source": [
    "with open('reddit_password.txt', 'r', encoding=\"utf8\") as f:\n",
    "    password = f.read()"
   ]
  },
  {
   "cell_type": "code",
   "execution_count": 4,
   "id": "39f5d4be",
   "metadata": {},
   "outputs": [],
   "source": [
    "# here we pass our login method (password), username, and password\n",
    "data = {'grant_type': 'password',\n",
    "        'username': 'Little-Layer-5804',\n",
    "        'password': password}\n",
    "\n",
    "# setup our header info, which gives reddit a brief description of our app\n",
    "headers = {'User-Agent': 'MyBot/0.0.1'}\n",
    "\n",
    "# send our request for an OAuth token\n",
    "res = requests.post('https://www.reddit.com/api/v1/access_token',\n",
    "                    auth=auth, data=data, headers=headers)\n",
    "\n",
    "# convert response to JSON and pull access_token value\n",
    "TOKEN = res.json()['access_token']\n",
    "\n",
    "# add authorization to our headers dictionary\n",
    "headers = {**headers, **{'Authorization': f\"bearer {TOKEN}\"}}"
   ]
  },
  {
   "cell_type": "markdown",
   "id": "1b1f7a1c",
   "metadata": {},
   "source": [
    "## Get all Reddit Posts"
   ]
  },
  {
   "cell_type": "code",
   "execution_count": 5,
   "id": "8a4f6e5c",
   "metadata": {},
   "outputs": [
    {
     "data": {
      "text/plain": [
       "<Response [200]>"
      ]
     },
     "execution_count": 5,
     "metadata": {},
     "output_type": "execute_result"
    }
   ],
   "source": [
    "all_posts = requests.get('https://api.pushshift.io/reddit/search/submission/?subreddit=singapore&sort=desc&sort_type=created_utc&size=50')\n",
    "all_posts"
   ]
  },
  {
   "cell_type": "markdown",
   "id": "8a2b13d0",
   "metadata": {},
   "source": [
    "## Get Comments of Individual Posts"
   ]
  },
  {
   "cell_type": "code",
   "execution_count": 6,
   "id": "33ff1921",
   "metadata": {
    "scrolled": false
   },
   "outputs": [
    {
     "data": {
      "text/plain": [
       "'&lt;div class=\"md\"&gt;&lt;p&gt;Also the (fake) weaponry, apparently.&lt;/p&gt;\\n&lt;/div&gt;'"
      ]
     },
     "execution_count": 6,
     "metadata": {},
     "output_type": "execute_result"
    }
   ],
   "source": [
    "# while the token is valid (~2 hours) we just add headers=headers to our requests\n",
    "# res = requests.get('https://oauth.reddit.com/r/SGExams/comments/rq4n7n', headers=headers)\n",
    "res = requests.get('https://oauth.reddit.com/r/singapore/comments/jpasro', headers=headers)\n",
    "\n",
    "res.json()[1]['data']['children'][0]['data']['body_html']"
   ]
  },
  {
   "cell_type": "code",
   "execution_count": 7,
   "id": "2a1ed26f",
   "metadata": {},
   "outputs": [
    {
     "name": "stdout",
     "output_type": "stream",
     "text": [
      "unsynchedcheese \n",
      "\n",
      "ongcs \n",
      "\n"
     ]
    }
   ],
   "source": [
    "for i in range(len(res.json()[1])):\n",
    "    print(res.json()[1]['data']['children'][i]['data']['author'], '\\n')"
   ]
  },
  {
   "cell_type": "code",
   "execution_count": null,
   "id": "ef737852",
   "metadata": {
    "scrolled": false
   },
   "outputs": [],
   "source": []
  }
 ],
 "metadata": {
  "kernelspec": {
   "display_name": "Python 3",
   "language": "python",
   "name": "python3"
  },
  "language_info": {
   "codemirror_mode": {
    "name": "ipython",
    "version": 3
   },
   "file_extension": ".py",
   "mimetype": "text/x-python",
   "name": "python",
   "nbconvert_exporter": "python",
   "pygments_lexer": "ipython3",
   "version": "3.8.8"
  }
 },
 "nbformat": 4,
 "nbformat_minor": 5
}
