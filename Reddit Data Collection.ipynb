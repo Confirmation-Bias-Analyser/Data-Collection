{
 "cells": [
  {
   "cell_type": "code",
   "execution_count": 1,
   "id": "8253a440",
   "metadata": {},
   "outputs": [],
   "source": [
    "import requests\n",
    "import pandas as pd\n",
    "from anytree import Node, RenderTree\n",
    "from functions import *\n",
    "from Reddit_functions import *"
   ]
  },
  {
   "cell_type": "code",
   "execution_count": 2,
   "id": "f075e193",
   "metadata": {},
   "outputs": [],
   "source": [
    "with open('Authentication/database_uri.txt', 'r', encoding=\"utf8\") as f:\n",
    "    uri = f.read()"
   ]
  },
  {
   "cell_type": "code",
   "execution_count": 3,
   "id": "a8cb505f",
   "metadata": {},
   "outputs": [],
   "source": [
    "with open('Authentication/reddit_credentials.txt', 'r', encoding=\"utf8\") as f:\n",
    "    credentials = f.read()\n",
    "    \n",
    "credentials = credentials.split('\\n')"
   ]
  },
  {
   "cell_type": "code",
   "execution_count": 4,
   "id": "461b8338",
   "metadata": {},
   "outputs": [],
   "source": [
    "# note that CLIENT_ID refers to 'personal use script' and SECRET_TOKEN to 'token'\n",
    "auth = requests.auth.HTTPBasicAuth(credentials[0], credentials[1])"
   ]
  },
  {
   "cell_type": "code",
   "execution_count": 5,
   "id": "39f5d4be",
   "metadata": {},
   "outputs": [],
   "source": [
    "# here we pass our login method (password), username, and password\n",
    "data = {'grant_type': 'password',\n",
    "        'username': credentials[2],\n",
    "        'password': credentials[3]}\n",
    "\n",
    "# setup our header info, which gives reddit a brief description of our app\n",
    "headers = {'User-Agent': 'MyBot/0.0.1'}\n",
    "\n",
    "# send our request for an OAuth token\n",
    "res = requests.post('https://www.reddit.com/api/v1/access_token',\n",
    "                    auth=auth, data=data, headers=headers)\n",
    "\n",
    "# convert response to JSON and pull access_token value\n",
    "TOKEN = res.json()['access_token']\n",
    "\n",
    "# add authorization to our headers dictionary\n",
    "headers = {**headers, **{'Authorization': f\"bearer {TOKEN}\"}}"
   ]
  },
  {
   "cell_type": "markdown",
   "id": "1b1f7a1c",
   "metadata": {},
   "source": [
    "## Get all Reddit Posts"
   ]
  },
  {
   "cell_type": "code",
   "execution_count": 7,
   "id": "8a4f6e5c",
   "metadata": {
    "scrolled": false
   },
   "outputs": [],
   "source": [
    "getRedditPosts()"
   ]
  },
  {
   "cell_type": "markdown",
   "id": "8a2b13d0",
   "metadata": {},
   "source": [
    "## Get Comments of Individual Posts"
   ]
  },
  {
   "cell_type": "code",
   "execution_count": null,
   "id": "33ff1921",
   "metadata": {
    "scrolled": false
   },
   "outputs": [],
   "source": [
    "# while the token is valid (~2 hours) we just add headers=headers to our requests\n",
    "res = requests.get('https://oauth.reddit.com/r/singapore/comments/rmqevj', headers=headers)\n",
    "# res = requests.get('https://oauth.reddit.com/r/singapore/comments/r08nub', headers=headers)\n",
    "\n",
    "conversation_dict, tree = createTree(res, 'rmqevj')"
   ]
  },
  {
   "cell_type": "code",
   "execution_count": null,
   "id": "35855986",
   "metadata": {},
   "outputs": [],
   "source": [
    "# getLinks('My Profile: https://auth.geeksforgeeks.org/user/Chinmoy%20Lenka/articles in the portal of https://www.geeksforgeeks.org/')"
   ]
  },
  {
   "cell_type": "code",
   "execution_count": null,
   "id": "03b97738",
   "metadata": {},
   "outputs": [],
   "source": [
    "df = pd.DataFrame.from_dict(conversation_dict)\n",
    "df['url'] = df['comment'].apply(lambda x: getLinks(x))\n",
    "df['link_title'] = df['url'].apply(lambda x: getURLfromList(x))\n",
    "\n",
    "# df[df['id'] == 'hpoc9nq']\n",
    "df.to_csv('Datasets/reddit_data.csv', index=False)\n",
    "\n",
    "df.head()"
   ]
  },
  {
   "cell_type": "code",
   "execution_count": null,
   "id": "58b9d962",
   "metadata": {
    "scrolled": true
   },
   "outputs": [],
   "source": [
    "for pre, fill, node in RenderTree(tree):\n",
    "    print(\"%s%s\" % (pre, node.name))"
   ]
  },
  {
   "cell_type": "code",
   "execution_count": null,
   "id": "a4392823",
   "metadata": {},
   "outputs": [],
   "source": []
  }
 ],
 "metadata": {
  "kernelspec": {
   "display_name": "Python 3 (ipykernel)",
   "language": "python",
   "name": "python3"
  },
  "language_info": {
   "codemirror_mode": {
    "name": "ipython",
    "version": 3
   },
   "file_extension": ".py",
   "mimetype": "text/x-python",
   "name": "python",
   "nbconvert_exporter": "python",
   "pygments_lexer": "ipython3",
   "version": "3.9.7"
  }
 },
 "nbformat": 4,
 "nbformat_minor": 5
}
