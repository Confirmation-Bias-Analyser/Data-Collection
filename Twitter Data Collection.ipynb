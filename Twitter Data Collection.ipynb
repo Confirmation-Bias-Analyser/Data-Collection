{
 "cells": [
  {
   "cell_type": "code",
   "execution_count": 1,
   "id": "077676d6",
   "metadata": {},
   "outputs": [],
   "source": [
    "import pandas as pd\n",
    "from functions import *\n",
    "from Twitter_functions import *"
   ]
  },
  {
   "cell_type": "code",
   "execution_count": 2,
   "id": "864c4408",
   "metadata": {},
   "outputs": [],
   "source": [
    "with open('Authentication/twitter_bearer_token.txt', 'r', encoding=\"utf8\") as f:\n",
    "    token = f.read()\n",
    "\n",
    "header = create_Twitter_headers(token)"
   ]
  },
  {
   "cell_type": "markdown",
   "id": "9cb7c6a7",
   "metadata": {},
   "source": [
    "# The Straits Times\n",
    "## Get Tweets"
   ]
  },
  {
   "cell_type": "code",
   "execution_count": 3,
   "id": "f65438d4",
   "metadata": {},
   "outputs": [
    {
     "name": "stdout",
     "output_type": "stream",
     "text": [
      "Tweet ID: 1524576872079581184 Time: 2022-05-12T02:27:06.000Z\n",
      "RT @STForeignDesk: SEA Games a showcase for Vietnam's recovery - and a welcome distraction https://t.co/lXduHhYbzy \n",
      "\n",
      "Tweet ID: 1524576864672440320 Time: 2022-05-12T02:27:04.000Z\n",
      "RT @STForeignDesk: Sri Lankan president to appoint new PM, cabinet this week https://t.co/femWLOaput \n",
      "\n",
      "Tweet ID: 1524576857475076097 Time: 2022-05-12T02:27:02.000Z\n",
      "RT @STForeignDesk: Chinese airliner veers off runway on take-off in Chongqing, causes fire: Media https://t.co/wInOcsmsxj \n",
      "\n",
      "Tweet ID: 1524575222875049984 Time: 2022-05-12T02:20:33.000Z\n",
      "RT @stbusinessdesk: 5E Resources debuts on SGX at 28 cents, 7.7% above IPO price https://t.co/6Xv3ZRU57z \n",
      "\n",
      "Tweet ID: 1524571583485939712 Time: 2022-05-12T02:06:05.000Z\n",
      "RT @stbusinessdesk: Major China developer Sunac misses bond coupon payment as crisis spreads\n",
      "https://t.co/qyC5SbW8sn \n",
      "\n"
     ]
    }
   ],
   "source": [
    "ST_id = '37874853'\n",
    "ST_tweets = getTweetsByUserID(ST_id, header, 5)\n",
    "\n",
    "getSingleTweetInfo('1524383591588790272', header)['data'][0]['created_at']\n",
    "generateTweetInformation(ST_tweets, header)"
   ]
  },
  {
   "cell_type": "markdown",
   "id": "b28060ce",
   "metadata": {},
   "source": [
    "## Get Conversation"
   ]
  },
  {
   "cell_type": "code",
   "execution_count": 4,
   "id": "db2df352",
   "metadata": {
    "scrolled": false
   },
   "outputs": [],
   "source": [
    "conversation_id = '1524330869166526464'\n",
    "ST_conversation_data = getConversation(conversation_id, header)"
   ]
  },
  {
   "cell_type": "code",
   "execution_count": 5,
   "id": "a2d1c125",
   "metadata": {
    "scrolled": true
   },
   "outputs": [
    {
     "name": "stdout",
     "output_type": "stream",
     "text": [
      "User ID: 1345985412192374784 Time: 2022-05-11T12:50:13.000Z\n",
      "In reply to: 37874853\n",
      "@straits_times Bla. Bla. Bla. Bla. United. Bla. Bla. Bla. \n",
      "\n",
      "User ID: 20900737 Time: 2022-05-11T10:26:50.000Z\n",
      "In reply to: 37874853\n",
      "@straits_times Price hikes coming.. \n",
      "\n"
     ]
    }
   ],
   "source": [
    "ST_result = processTweetsToDict(ST_conversation_data)"
   ]
  },
  {
   "cell_type": "code",
   "execution_count": 6,
   "id": "e425e666",
   "metadata": {
    "scrolled": false
   },
   "outputs": [],
   "source": [
    "# ST_df = processTwitterDataframe(ST_result, ST_id, conversation_id, uri, False)\n",
    "# ST_df.head()"
   ]
  },
  {
   "cell_type": "markdown",
   "id": "2d659d08",
   "metadata": {},
   "source": [
    "# Channel NewsAsia / Mothership\n",
    "## Get Tweets"
   ]
  },
  {
   "cell_type": "code",
   "execution_count": 7,
   "id": "c217e8d6",
   "metadata": {
    "scrolled": true
   },
   "outputs": [
    {
     "name": "stdout",
     "output_type": "stream",
     "text": [
      "Tweet ID: 1524414515583995904 Time: 2022-05-11T15:41:57.000Z\n",
      "11 corpses found at camp of Thai cult whose members eat bodily excrements of 75-year-old leader https://t.co/N7WN7QvVLD https://t.co/eADm90vSw3 \n",
      "\n",
      "Tweet ID: 1524381958532661249 Time: 2022-05-11T13:32:35.000Z\n",
      "'I have nothing now': Sharon Au's apartment in Paris robbed on Apr. 30 https://t.co/8TSc1ss68w https://t.co/W7oPt1Oe0g \n",
      "\n",
      "Tweet ID: 1524381642022096903 Time: 2022-05-11T13:31:19.000Z\n",
      "High Court dismisses SDP's POFMA challenge, orders them to pay S$7,000 for false post on 10 million population https://t.co/OSuljCnCYl https://t.co/2XHjMDQ7nC \n",
      "\n",
      "Tweet ID: 1524332638747590656 Time: 2022-05-11T10:16:36.000Z\n",
      "4-year-old girl scalded by boiling tea on Qatar Airways flight, mother highlights poor tray table design https://t.co/htc5elJMwi https://t.co/f1ooys098m \n",
      "\n",
      "Tweet ID: 1524331559582453760 Time: 2022-05-11T10:12:19.000Z\n",
      "Unusually coloured broadbill, considered extinct in S'pore, reappears at Pulau Ubin\n",
      "https://t.co/a29jNLJpr4 https://t.co/unpIk9CBSv \n",
      "\n"
     ]
    }
   ],
   "source": [
    "# CNA_tweets = getTweetsByUserID('38400130', header) # CNA\n",
    "CNA_tweets = getTweetsByUserID('1619325942', header, 5) # Mothership\n",
    "\n",
    "generateTweetInformation(CNA_tweets, header)"
   ]
  },
  {
   "cell_type": "markdown",
   "id": "4e732189",
   "metadata": {},
   "source": [
    "## Get Conversation"
   ]
  },
  {
   "cell_type": "code",
   "execution_count": 8,
   "id": "f8b8a9cb",
   "metadata": {
    "scrolled": true
   },
   "outputs": [
    {
     "name": "stdout",
     "output_type": "stream",
     "text": [
      "User ID: 1520451553165193216 Time: 2022-05-08T15:09:14.000Z\n",
      "In reply to: 1474416398\n",
      "@zacroix @MothershipSG Is about time for people to speak their rights and truth...this is a small country and so many funerals flourish all over \n",
      "\n",
      "User ID: 1348988297205305345 Time: 2022-05-08T11:36:53.000Z\n",
      "In reply to: 1619325942\n",
      "@MothershipSG Lanjiao ah! Healing the divide but causing more divisions \n",
      "\n",
      "User ID: 770445136371167232 Time: 2022-05-08T11:30:17.000Z\n",
      "In reply to: 1619325942\n",
      "@MothershipSG She's a clown \n",
      "\n",
      "User ID: 1516288928047071233 Time: 2022-05-08T11:21:23.000Z\n",
      "In reply to: 1619325942\n",
      "@MothershipSG For every protest in any country, there is always an angmoh in it. \n",
      "\n",
      "User ID: 135490445 Time: 2022-05-08T11:17:04.000Z\n",
      "In reply to: 1619325942\n",
      "@MothershipSG Joker or dumber? \n",
      "\n",
      "User ID: 1234746671365378049 Time: 2022-05-08T09:39:48.000Z\n",
      "In reply to: 824783499492077570\n",
      "@anndraco0523 @MothershipSG Arrrrrr... Wrong comparison. \n",
      "\n",
      "User ID: 824783499492077570 Time: 2022-05-08T07:14:34.000Z\n",
      "In reply to: 1422221555950518275\n",
      "@McStackinn @MothershipSG All vaccines have to undergo human trials before being given to the general public. Its not something that is exclusively done during this pandemic. \n",
      "\n",
      "User ID: 1422221555950518275 Time: 2022-05-08T06:27:07.000Z\n",
      "In reply to: 824783499492077570\n",
      "@anndraco0523 @MothershipSG Those were not experimental duh \n",
      "\n",
      "User ID: 1531214377 Time: 2022-05-08T05:44:08.000Z\n",
      "In reply to: 1619325942\n",
      "@MothershipSG What is there to protest now no need to trace together u can go anywhere u want too free these people \n",
      "\n",
      "User ID: 403848954 Time: 2022-05-08T03:59:03.000Z\n",
      "In reply to: 1619325942\n",
      "@MothershipSG Can’t wait for her to be thrown in jail \n",
      "\n",
      "User ID: 1058080638614421504 Time: 2022-05-08T02:57:20.000Z\n",
      "In reply to: 1619325942\n",
      "@MothershipSG all vaxxine never works 🖕they are poison if give a choice most will not inject their baby with poison💉💉💉(bcg,polio,hep a/b/c, meningitis)\n",
      "\n",
      "protest against (WHO)plandemic treaty kill gates poison 💉 💉 💉 they want to supercedes your constitutional right \n",
      "\n",
      "User ID: 804973086567055360 Time: 2022-05-08T02:46:10.000Z\n",
      "In reply to: 1619325942\n",
      "@MothershipSG Not surprising.\n",
      "It's this category of people who would vote for Donald Trump and Bombong Marcos.\n",
      "They would probably declare that Russia's invasion of Ukraine is justified.\n",
      "They're breathing the wrong air in the wrong country. \n",
      "\n",
      "User ID: 1485528862893109250 Time: 2022-05-08T01:47:16.000Z\n",
      "In reply to: 824783499492077570\n",
      "@anndraco0523 @MothershipSG Yeah and you do know that those vaccines took years of research and testing to be developed?? \n",
      "\n",
      "User ID: 633515282 Time: 2022-05-08T01:30:09.000Z\n",
      "In reply to: 2914335456\n",
      "@frivolousssss @tonedknees @anndraco0523 @MothershipSG You don’t sound smart to me. \n",
      "\n",
      "User ID: 35415789 Time: 2022-05-08T00:58:22.000Z\n",
      "In reply to: 1345985412192374784\n",
      "@Actarus_dEuphor @Saccorhytus1 @MothershipSG What is a strong cold? \n",
      "\n",
      "User ID: 824783499492077570 Time: 2022-05-07T23:19:27.000Z\n",
      "In reply to: 267718851\n",
      "@tonedknees @MothershipSG It would seem that the signs these folks have on display would beg to differ tho... (based off the pics from mothership) \n",
      "\n",
      "User ID: 83822931 Time: 2022-05-07T19:40:17.000Z\n",
      "In reply to: 1435135618133024768\n",
      "@K31thc0m @MothershipSG Oh yeah, I don't need to safe entry to most of not all places... The ship has sailed ATM. Which is probably why the permit was granted in the first place. Ok la now I give you talk. \n",
      "\n",
      "User ID: 3246610436 Time: 2022-05-07T18:13:12.000Z\n",
      "In reply to: 1619325942\n",
      "@MothershipSG Well, lets see what latest research says about vaccine vs Omicron: 💁‍♂️ https://t.co/PY8EbJQS6Y \n",
      "\n",
      "User ID: 2914335456 Time: 2022-05-07T18:07:38.000Z\n",
      "In reply to: 267718851\n",
      "@tonedknees @anndraco0523 @MothershipSG you must be one of their followers \n",
      "\n",
      "User ID: 1365682034551627779 Time: 2022-05-07T17:45:28.000Z\n",
      "In reply to: 1619325942\n",
      "@MothershipSG What a joke. 100 plus people out of 5.68 million people in Singapore. As if that’s going to make a difference. Blind leading the blind. \n",
      "\n",
      "User ID: 1339037189565415425 Time: 2022-05-07T16:53:52.000Z\n",
      "In reply to: 1619325942\n",
      "@MothershipSG nobody's stopping you https://t.co/Nj2znrlW7w \n",
      "\n",
      "User ID: 1365621139104362496 Time: 2022-05-07T16:28:02.000Z\n",
      "In reply to: 1474416398\n",
      "@zacroix @MothershipSG U can protest legally in Singapore if u dk. Like pink dot \n",
      "\n",
      "User ID: 1499140477718872072 Time: 2022-05-07T16:23:55.000Z\n",
      "In reply to: 1619325942\n",
      "@MothershipSG \"I am healthy I have an immune system\" is possibly one of the most insensitive thing I have ever seen written \n",
      "\n",
      "User ID: 273802748 Time: 2022-05-07T16:11:05.000Z\n",
      "In reply to: 1619325942\n",
      "@MothershipSG wasting time group....yawn... \n",
      "\n",
      "User ID: 1266607549245091840 Time: 2022-05-07T15:32:59.000Z\n",
      "In reply to: 1619325942\n",
      "@MothershipSG This is MOTHERSHIT corrupted reporting. Should be POFMAed.\n",
      "https://t.co/o9iCzdOAyH \n",
      "\n",
      "User ID: 890795094256648192 Time: 2022-05-07T15:18:50.000Z\n",
      "In reply to: 1619325942\n",
      "@MothershipSG Abit too late if damage has been done. Vacc and unvacc now have almost similar \"entitlements\". \n",
      "\n",
      "User ID: 45468430 Time: 2022-05-07T15:11:56.000Z\n",
      "In reply to: 1619325942\n",
      "@MothershipSG Yesterday I came across this .. #pfizerdocuments. \n",
      "\n",
      "User ID: 267718851 Time: 2022-05-07T15:10:12.000Z\n",
      "In reply to: 824783499492077570\n",
      "@anndraco0523 @MothershipSG A protest against COVID-19 vaccine does not equate to being anti-vaccine.\n",
      "\n",
      "It's a mystery how these inferior product are classified under the good names of vaccines in the first place. \n",
      "\n",
      "User ID: 1389416874786496514 Time: 2022-05-07T14:55:04.000Z\n",
      "In reply to: 1619325942\n",
      "@MothershipSG It’s not compulsory to be vaccinated. \n",
      "\n",
      "User ID: 1345985412192374784 Time: 2022-05-07T14:48:27.000Z\n",
      "In reply to: 1422221555950518275\n",
      "@McStackinn @MothershipSG I like to understand things. But, here, i admit: im totally clueless. Clueless. Why all of them are keeping their mask? I just do not get it. \n",
      "Can someone really give me a rational reason they behave this way? \n",
      "\n",
      "User ID: 1509197192459816962 Time: 2022-05-07T14:48:16.000Z\n",
      "In reply to: 1619325942\n",
      "@MothershipSG Dumb ways to die +1 \n",
      "\n",
      "User ID: 4859607969 Time: 2022-05-07T14:45:06.000Z\n",
      "In reply to: 1619325942\n",
      "@MothershipSG The idiots all gathered together for a nice outing. Are they back in the asylum now? \n",
      "\n",
      "User ID: 1224750245805875201 Time: 2022-05-07T14:44:43.000Z\n",
      "In reply to: 1422221555950518275\n",
      "@McStackinn @MothershipSG https://t.co/CpXrsIF9mq \n",
      "\n",
      "User ID: 824783499492077570 Time: 2022-05-07T14:22:59.000Z\n",
      "In reply to: 1619325942\n",
      "@MothershipSG Uhh the pple protesting do know that as babies we had to take mandatory shots such as Measles Mump Rubella (MMR), Polio etc right? ...right? \n",
      "\n",
      "User ID: 1345985412192374784 Time: 2022-05-07T13:58:16.000Z\n",
      "In reply to: 1493770174830235665\n",
      "@Saccorhytus1 @MothershipSG Because having accepted a 2 years lockdown like a sheep for a strong cold doesnt make u a covid retard? \n",
      "\n",
      "User ID: 1422221555950518275 Time: 2022-05-07T13:56:50.000Z\n",
      "In reply to: 1619325942\n",
      "@MothershipSG “Nearly all of them were not wearing masks.”\n",
      "\n",
      "Well duh, they aren’t like the majority of sheeps in SG still mindlessly masking up outdoors, inhaling their own breath and accumulating microplastics in their lungs all in the name of health.\n",
      "\n",
      "https://t.co/7lc3efDipp \n",
      "\n",
      "User ID: 1459652820630904833 Time: 2022-05-07T13:54:11.000Z\n",
      "In reply to: 1619325942\n",
      "@MothershipSG Do they have children? Did they ever ask their children if they were willing to be born? Their children’s bodies, their choices! \n",
      "\n",
      "User ID: 21622264 Time: 2022-05-07T13:41:00.000Z\n",
      "In reply to: 1619325942\n",
      "@MothershipSG Doubt the 'My Body My Choice' line works with these folks when it comes to abortion. 🙄 \n",
      "\n",
      "User ID: 1474416398 Time: 2022-05-07T13:40:35.000Z\n",
      "In reply to: 1619325942\n",
      "@MothershipSG Why were they not arrested for illegal gathering? \n",
      "\n",
      "User ID: 1493770174830235665 Time: 2022-05-07T13:36:28.000Z\n",
      "In reply to: 1619325942\n",
      "@MothershipSG Covidiot!😂 \n",
      "\n",
      "User ID: 1435135618133024768 Time: 2022-05-07T13:35:03.000Z\n",
      "In reply to: 1619325942\n",
      "@MothershipSG theres barely any checks for vaccination status so this is just leading people to nowhere \n",
      "\n"
     ]
    }
   ],
   "source": [
    "conversation_id = '1522931750451617793'\n",
    "CNA_conversation_data = getConversation(conversation_id, header)\n",
    "\n",
    "result = processTweetsToDict(CNA_conversation_data)"
   ]
  },
  {
   "cell_type": "code",
   "execution_count": 9,
   "id": "47095f73",
   "metadata": {
    "scrolled": true
   },
   "outputs": [
    {
     "name": "stdout",
     "output_type": "stream",
     "text": [
      "Conversation has been updated in the database.\n"
     ]
    },
    {
     "data": {
      "text/html": [
       "<div>\n",
       "<style scoped>\n",
       "    .dataframe tbody tr th:only-of-type {\n",
       "        vertical-align: middle;\n",
       "    }\n",
       "\n",
       "    .dataframe tbody tr th {\n",
       "        vertical-align: top;\n",
       "    }\n",
       "\n",
       "    .dataframe thead th {\n",
       "        text-align: right;\n",
       "    }\n",
       "</style>\n",
       "<table border=\"1\" class=\"dataframe\">\n",
       "  <thead>\n",
       "    <tr style=\"text-align: right;\">\n",
       "      <th></th>\n",
       "      <th>id</th>\n",
       "      <th>timestamp</th>\n",
       "      <th>reply_to</th>\n",
       "      <th>comment</th>\n",
       "      <th>social_media</th>\n",
       "      <th>conversation_id</th>\n",
       "      <th>head_id</th>\n",
       "      <th>user_id</th>\n",
       "      <th>url</th>\n",
       "      <th>link_title</th>\n",
       "    </tr>\n",
       "  </thead>\n",
       "  <tbody>\n",
       "    <tr>\n",
       "      <th>0</th>\n",
       "      <td>10000</td>\n",
       "      <td>2022-05-08T15:09:14.000Z</td>\n",
       "      <td>10038</td>\n",
       "      <td>@zacroix @MothershipSG Is about time for peopl...</td>\n",
       "      <td>Twitter</td>\n",
       "      <td>1522931750451617793</td>\n",
       "      <td>1619325942</td>\n",
       "      <td>1520451553165193216</td>\n",
       "      <td></td>\n",
       "      <td></td>\n",
       "    </tr>\n",
       "    <tr>\n",
       "      <th>1</th>\n",
       "      <td>10001</td>\n",
       "      <td>2022-05-08T11:36:53.000Z</td>\n",
       "      <td>1619325942</td>\n",
       "      <td>@MothershipSG Lanjiao ah! Healing the divide b...</td>\n",
       "      <td>Twitter</td>\n",
       "      <td>1522931750451617793</td>\n",
       "      <td>1619325942</td>\n",
       "      <td>1348988297205305345</td>\n",
       "      <td></td>\n",
       "      <td></td>\n",
       "    </tr>\n",
       "    <tr>\n",
       "      <th>2</th>\n",
       "      <td>10002</td>\n",
       "      <td>2022-05-08T11:30:17.000Z</td>\n",
       "      <td>1619325942</td>\n",
       "      <td>@MothershipSG She's a clown</td>\n",
       "      <td>Twitter</td>\n",
       "      <td>1522931750451617793</td>\n",
       "      <td>1619325942</td>\n",
       "      <td>770445136371167232</td>\n",
       "      <td></td>\n",
       "      <td></td>\n",
       "    </tr>\n",
       "    <tr>\n",
       "      <th>3</th>\n",
       "      <td>10003</td>\n",
       "      <td>2022-05-08T11:21:23.000Z</td>\n",
       "      <td>1619325942</td>\n",
       "      <td>@MothershipSG For every protest in any country...</td>\n",
       "      <td>Twitter</td>\n",
       "      <td>1522931750451617793</td>\n",
       "      <td>1619325942</td>\n",
       "      <td>1516288928047071233</td>\n",
       "      <td></td>\n",
       "      <td></td>\n",
       "    </tr>\n",
       "    <tr>\n",
       "      <th>4</th>\n",
       "      <td>10004</td>\n",
       "      <td>2022-05-08T11:17:04.000Z</td>\n",
       "      <td>1619325942</td>\n",
       "      <td>@MothershipSG Joker or dumber?</td>\n",
       "      <td>Twitter</td>\n",
       "      <td>1522931750451617793</td>\n",
       "      <td>1619325942</td>\n",
       "      <td>135490445</td>\n",
       "      <td></td>\n",
       "      <td></td>\n",
       "    </tr>\n",
       "  </tbody>\n",
       "</table>\n",
       "</div>"
      ],
      "text/plain": [
       "      id                 timestamp    reply_to  \\\n",
       "0  10000  2022-05-08T15:09:14.000Z       10038   \n",
       "1  10001  2022-05-08T11:36:53.000Z  1619325942   \n",
       "2  10002  2022-05-08T11:30:17.000Z  1619325942   \n",
       "3  10003  2022-05-08T11:21:23.000Z  1619325942   \n",
       "4  10004  2022-05-08T11:17:04.000Z  1619325942   \n",
       "\n",
       "                                             comment social_media  \\\n",
       "0  @zacroix @MothershipSG Is about time for peopl...      Twitter   \n",
       "1  @MothershipSG Lanjiao ah! Healing the divide b...      Twitter   \n",
       "2                        @MothershipSG She's a clown      Twitter   \n",
       "3  @MothershipSG For every protest in any country...      Twitter   \n",
       "4                     @MothershipSG Joker or dumber?      Twitter   \n",
       "\n",
       "       conversation_id     head_id              user_id url link_title  \n",
       "0  1522931750451617793  1619325942  1520451553165193216                 \n",
       "1  1522931750451617793  1619325942  1348988297205305345                 \n",
       "2  1522931750451617793  1619325942   770445136371167232                 \n",
       "3  1522931750451617793  1619325942  1516288928047071233                 \n",
       "4  1522931750451617793  1619325942            135490445                 "
      ]
     },
     "execution_count": 9,
     "metadata": {},
     "output_type": "execute_result"
    }
   ],
   "source": [
    "CNA_df = processTwitterDataframe(result, '1619325942', conversation_id, uri, False)\n",
    "CNA_df.head()"
   ]
  },
  {
   "cell_type": "code",
   "execution_count": null,
   "id": "4844d9dd",
   "metadata": {},
   "outputs": [],
   "source": []
  }
 ],
 "metadata": {
  "kernelspec": {
   "display_name": "Python 3 (ipykernel)",
   "language": "python",
   "name": "python3"
  },
  "language_info": {
   "codemirror_mode": {
    "name": "ipython",
    "version": 3
   },
   "file_extension": ".py",
   "mimetype": "text/x-python",
   "name": "python",
   "nbconvert_exporter": "python",
   "pygments_lexer": "ipython3",
   "version": "3.9.7"
  }
 },
 "nbformat": 4,
 "nbformat_minor": 5
}
