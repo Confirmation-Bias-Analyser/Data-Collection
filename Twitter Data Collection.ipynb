{
 "cells": [
  {
   "cell_type": "code",
   "execution_count": 1,
   "id": "077676d6",
   "metadata": {},
   "outputs": [],
   "source": [
    "import requests"
   ]
  },
  {
   "cell_type": "code",
   "execution_count": 2,
   "id": "ccca6841",
   "metadata": {},
   "outputs": [],
   "source": [
    "def create_headers(bearer_token):\n",
    "    headers = {\"Authorization\": \"Bearer {}\".format(bearer_token)}\n",
    "    return headers\n",
    "\n",
    "def connect_to_endpoint(url, headers, next_token = None):    \n",
    "    response = requests.request(\"GET\", url, headers = headers)\n",
    "        \n",
    "    if response.status_code != 200:\n",
    "        raise Exception(response.status_code, response.text)\n",
    "    return response.json()\n",
    "\n",
    "def getTweets(user_id, header):\n",
    "    tweets_url = f'https://api.twitter.com/2/users/{user_id}/tweets'\n",
    "    return connect_to_endpoint(tweets_url, header)\n",
    "\n",
    "# 'conversation_id' is the identifier for the main tweet\n",
    "def getConversation(conversation_id, max_results, header):\n",
    "    params = 'in_reply_to_user_id,author_id,created_at,conversation_id'\n",
    "    getConversation_url = f'https://api.twitter.com/2/tweets/search/recent?query=conversation_id:{conversation_id}&tweet.fields={params}&max_results={max_results}'\n",
    "\n",
    "    return connect_to_endpoint(getConversation_url, header)\n",
    "\n",
    "# For now we will return the time only\n",
    "def getTweetInformation(conversation_id, header):\n",
    "    params = 'created_at,conversation_id,in_reply_to_user_id,author_id,referenced_tweets'\n",
    "    tweetInfo_url = f'https://api.twitter.com/2/tweets?tweet.fields={params}&ids={conversation_id}'\n",
    "    \n",
    "    result = connect_to_endpoint(tweetInfo_url, header)\n",
    "    return result['data'][0]['created_at']\n",
    "\n",
    "def getTweetComments(conversation_data):\n",
    "    for i in range(len(conversation_data['data'])):\n",
    "        print('User ID:', conversation_data['data'][i]['author_id'], \n",
    "              'Time:', conversation_data['data'][i]['created_at'])\n",
    "        print(conversation_data['data'][i]['text'], '\\n')"
   ]
  },
  {
   "cell_type": "code",
   "execution_count": 3,
   "id": "864c4408",
   "metadata": {},
   "outputs": [],
   "source": [
    "with open('twitter_bearer_token.txt', 'r', encoding=\"utf8\") as f:\n",
    "    token = f.read()\n",
    "\n",
    "header = create_headers(token)\n",
    "max_results = 30"
   ]
  },
  {
   "cell_type": "markdown",
   "id": "9cb7c6a7",
   "metadata": {},
   "source": [
    "# The Straits Times\n",
    "## Get Tweets"
   ]
  },
  {
   "cell_type": "code",
   "execution_count": 4,
   "id": "f65438d4",
   "metadata": {},
   "outputs": [
    {
     "data": {
      "text/plain": [
       "{'data': [{'id': '1476483103027871744',\n",
       "   'text': \"RT @ST_LifeTweets: Taiwanese TV host Jacky Wu's son Rick Wu apologises for drug arrest https://t.co/hgmeFZVx1C\"},\n",
       "  {'id': '1476483095108800512',\n",
       "   'text': \"RT @STForeignDesk: Myanmar court jails Aung San Suu Kyi's aides for sedition https://t.co/PuBx2eLYa8\"},\n",
       "  {'id': '1476483088288915461',\n",
       "   'text': 'RT @ST_LifeTweets: Did Christopher Lee donate anonymously to aid Malaysian flood victims? https://t.co/rPkO7fi4MB'},\n",
       "  {'id': '1476483081435418624',\n",
       "   'text': \"RT @STForeignDesk: Taliban chief orders fighters not to 'punish' former regime members https://t.co/2kw1uiy7oG\"},\n",
       "  {'id': '1476479566965141504',\n",
       "   'text': 'AVS investigating case of cat abuse, man arrested https://t.co/TGV3gqI9vx'},\n",
       "  {'id': '1476479559990079492',\n",
       "   'text': 'Electricity, gas tariffs to increase for next three months amid rising costs https://t.co/zYYNVM7D3u'},\n",
       "  {'id': '1476472786952486912',\n",
       "   'text': \"First record of rare cinereous vulture seen in S'pore https://t.co/5pqwQAtyyl\"},\n",
       "  {'id': '1476472781575389186',\n",
       "   'text': \"Magic cup makes it to PM Lee's 2021 recap Reel on Instagram https://t.co/i8X2fEGcRn\"},\n",
       "  {'id': '1476472776240222208',\n",
       "   'text': 'Woman who abused maid loses appeal against conviction but gets shorter jail term https://t.co/yLH6JCuDvB'},\n",
       "  {'id': '1476472769076359171',\n",
       "   'text': \"Maid who stole jewellery, cash and household items from employer gets 5 months' jail https://t.co/X7GMOUdyYd\"}],\n",
       " 'meta': {'oldest_id': '1476472769076359171',\n",
       "  'newest_id': '1476483103027871744',\n",
       "  'result_count': 10,\n",
       "  'next_token': '7140dibdnow9c7btw3z3q3i07lx83e6l6t9x3lnb9ce29'}}"
      ]
     },
     "execution_count": 4,
     "metadata": {},
     "output_type": "execute_result"
    }
   ],
   "source": [
    "ST_tweets = getTweets('37874853', header)\n",
    "ST_tweets"
   ]
  },
  {
   "cell_type": "code",
   "execution_count": 5,
   "id": "31aed46c",
   "metadata": {},
   "outputs": [
    {
     "name": "stdout",
     "output_type": "stream",
     "text": [
      "Tweet ID: 1476483103027871744 Time: 2021-12-30T09:19:38.000Z\n",
      "RT @ST_LifeTweets: Taiwanese TV host Jacky Wu's son Rick Wu apologises for drug arrest https://t.co/hgmeFZVx1C \n",
      "\n",
      "Tweet ID: 1476483095108800512 Time: 2021-12-30T09:19:36.000Z\n",
      "RT @STForeignDesk: Myanmar court jails Aung San Suu Kyi's aides for sedition https://t.co/PuBx2eLYa8 \n",
      "\n",
      "Tweet ID: 1476483088288915461 Time: 2021-12-30T09:19:34.000Z\n",
      "RT @ST_LifeTweets: Did Christopher Lee donate anonymously to aid Malaysian flood victims? https://t.co/rPkO7fi4MB \n",
      "\n",
      "Tweet ID: 1476483081435418624 Time: 2021-12-30T09:19:33.000Z\n",
      "RT @STForeignDesk: Taliban chief orders fighters not to 'punish' former regime members https://t.co/2kw1uiy7oG \n",
      "\n",
      "Tweet ID: 1476479566965141504 Time: 2021-12-30T09:05:35.000Z\n",
      "AVS investigating case of cat abuse, man arrested https://t.co/TGV3gqI9vx \n",
      "\n",
      "Tweet ID: 1476479559990079492 Time: 2021-12-30T09:05:33.000Z\n",
      "Electricity, gas tariffs to increase for next three months amid rising costs https://t.co/zYYNVM7D3u \n",
      "\n",
      "Tweet ID: 1476472786952486912 Time: 2021-12-30T08:38:38.000Z\n",
      "First record of rare cinereous vulture seen in S'pore https://t.co/5pqwQAtyyl \n",
      "\n",
      "Tweet ID: 1476472781575389186 Time: 2021-12-30T08:38:37.000Z\n",
      "Magic cup makes it to PM Lee's 2021 recap Reel on Instagram https://t.co/i8X2fEGcRn \n",
      "\n",
      "Tweet ID: 1476472776240222208 Time: 2021-12-30T08:38:36.000Z\n",
      "Woman who abused maid loses appeal against conviction but gets shorter jail term https://t.co/yLH6JCuDvB \n",
      "\n",
      "Tweet ID: 1476472769076359171 Time: 2021-12-30T08:38:34.000Z\n",
      "Maid who stole jewellery, cash and household items from employer gets 5 months' jail https://t.co/X7GMOUdyYd \n",
      "\n"
     ]
    }
   ],
   "source": [
    "for i in range(len(ST_tweets['data'])):\n",
    "    print('Tweet ID:', ST_tweets['data'][i]['id'], \n",
    "          'Time:', getTweetInformation(ST_tweets['data'][i]['id'], header))\n",
    "    print(ST_tweets['data'][i]['text'], '\\n')"
   ]
  },
  {
   "cell_type": "code",
   "execution_count": 6,
   "id": "ddca8f97",
   "metadata": {
    "scrolled": false
   },
   "outputs": [],
   "source": [
    "# query = '@straits_times'\n",
    "# tweets_url = f'https://api.twitter.com/2/tweets/search/recent?query={query}&max_results={max_results}'\n",
    "# connect_to_endpoint(tweets_url, header)"
   ]
  },
  {
   "cell_type": "markdown",
   "id": "b28060ce",
   "metadata": {},
   "source": [
    "## Get Conversation"
   ]
  },
  {
   "cell_type": "code",
   "execution_count": 7,
   "id": "db2df352",
   "metadata": {
    "scrolled": false
   },
   "outputs": [],
   "source": [
    "ST_conversation_data = getConversation('1475383966832021504', max_results, header)"
   ]
  },
  {
   "cell_type": "code",
   "execution_count": 8,
   "id": "a2d1c125",
   "metadata": {
    "scrolled": false
   },
   "outputs": [
    {
     "name": "stdout",
     "output_type": "stream",
     "text": [
      "User ID: 803298526700539904 Time: 2021-12-29T02:35:23.000Z\n",
      "@straits_times Omicron was brought in for a reason, to provide justifications for the jabs and the highly discriminating measures that will subsequently follow against the “unvaccinated”.\n",
      "\n",
      "Let’s not blame the new wave on omicron, if you follow the timeline closely, you’d know the cause of it. \n",
      "\n",
      "User ID: 785135001327194112 Time: 2021-12-28T02:37:08.000Z\n",
      "@straits_times Asean Chairman is the Dictator Hon San and Do not let Asean image spoiled by Dictator. https://t.co/npUeQEvEwA \n",
      "\n",
      "User ID: 1122115623562039297 Time: 2021-12-27T17:09:00.000Z\n",
      "@hdbeuejdh @FarieRose Bwa hahaha!!!  You wait long long lah! \n",
      "\n",
      "User ID: 1097030280248942592 Time: 2021-12-27T15:28:58.000Z\n",
      "@straits_times To summarize.\n",
      "Not severe. Can recover yourself.\n",
      "BUT MUST get vaccinated.\n",
      "CALL YOURSELF EXPERTS\n",
      "REPEAT REPEAT REPEAT.\n",
      "Going to be 3 years like this.\n",
      "Never meant to end. \n",
      "\n",
      "User ID: 33371285 Time: 2021-12-27T13:47:23.000Z\n",
      "@straits_times You cannot end this!  What has to happen to slow its spread is to vaccinate the world or else new variants are going to emerge. Imagine a Singapore variant called chendol!!! \n",
      "\n",
      "User ID: 33371285 Time: 2021-12-27T13:45:47.000Z\n",
      "@Exbb651 @straits_times Lah La La La La La. It's not a failure on anybody's part it's the virus which can't be defeated no matter what you do. So the govts approach to live with the virus was the right approach. It's how to mitigate the risk that's key!! Entiende ? \n",
      "\n",
      "User ID: 33371285 Time: 2021-12-27T13:43:59.000Z\n",
      "@andyqkw @straits_times You cannot close the darned border. You have community spread and some people dig their nose and stick the nasty onto stair railings and of then others hold these railings and scratch their faces. Voila there you have it! \n",
      "\n",
      "User ID: 33371285 Time: 2021-12-27T13:40:51.000Z\n",
      "@straits_times I could have told you that. Gee \n",
      "\n",
      "User ID: 506890496 Time: 2021-12-27T12:05:33.000Z\n",
      "@straits_times No worries!\n",
      "We are ready! \n",
      "\n",
      "User ID: 2611769381 Time: 2021-12-27T11:35:15.000Z\n",
      "@straits_times The new wave is Meriton! \n",
      "\n",
      "User ID: 1345985412192374784 Time: 2021-12-27T11:04:44.000Z\n",
      "@andyqkw @straits_times Closing the Singapore borders is like closing ur anus: u think it works short-term but, trust me, eventually it will be a disaster full of sht. \n",
      "\n",
      "User ID: 1345985412192374784 Time: 2021-12-27T11:03:09.000Z\n",
      "@syafiqachu @straits_times U close borders: singapore dies. Right now, it is already a zombie. \n",
      "\n",
      "User ID: 1286587905033420802 Time: 2021-12-27T10:34:18.000Z\n",
      "@straits_times Expected lah 🤣🤣🤣failed again🤣🤣🤣 \n",
      "\n",
      "User ID: 1394181408927617025 Time: 2021-12-27T10:24:40.000Z\n",
      "@straits_times If you expect disappointment, then you can never be truly disappointed. -Michelle Jones Watson \n",
      "\n",
      "User ID: 1441392677086384136 Time: 2021-12-27T10:21:54.000Z\n",
      "@andyqkw @straits_times https://t.co/dUuxCRDh8P \n",
      "\n",
      "User ID: 919428277038604288 Time: 2021-12-27T10:18:51.000Z\n",
      "@straits_times Live with virus, right? All the while expecting new waves, just when... \n",
      "\n",
      "User ID: 1441392677086384136 Time: 2021-12-27T10:18:34.000Z\n",
      "@syafiqachu @straits_times How did closing borders work for Japan? Oh it didn’t. The same way it would have been a failure for us. \n",
      "https://t.co/G2s6LlNozA \n",
      "\n",
      "User ID: 391279612 Time: 2021-12-27T10:13:21.000Z\n",
      "@straits_times Government wants Singaporean to expect new wave when they themself refuses to close the border in timely manner. Whose fault is it actually? \n",
      "\n",
      "User ID: 1441392677086384136 Time: 2021-12-27T10:12:49.000Z\n",
      "@FarieRose @straits_times It will be long over by then. \n",
      "\n",
      "User ID: 2934370452 Time: 2021-12-27T10:09:09.000Z\n",
      "@straits_times Welcome back from your vacation; and the souvenir is ...... \n",
      "\n",
      "User ID: 2573947342 Time: 2021-12-27T09:57:37.000Z\n",
      "@syafiqachu @straits_times Govt can’t fund Singapore airlines forever. Open up fully \n",
      "\n",
      "User ID: 312996279 Time: 2021-12-27T09:49:02.000Z\n",
      "@straits_times Multi ministry force fail \n",
      "\n",
      "User ID: 406301134 Time: 2021-12-27T09:48:50.000Z\n",
      "@straits_times S'pore must expect new wave of Covid-19 cases in coming days due to Omicron leaking in due to our failure to close border: Lorenzo Wang \n",
      "\n",
      "User ID: 24324751 Time: 2021-12-27T09:38:17.000Z\n",
      "@straits_times Just in time in for Ramadan and Eid \n",
      "\n",
      "User ID: 288583492 Time: 2021-12-27T09:12:14.000Z\n",
      "@straits_times https://t.co/4uV0sYCxqQ \n",
      "\n",
      "User ID: 16009959 Time: 2021-12-27T09:00:47.000Z\n",
      "@straits_times I think Lawrence Wong needs to be prepared, not us. \n",
      "\n",
      "User ID: 477748348 Time: 2021-12-27T08:59:57.000Z\n",
      "@straits_times A wave of people with runny nose!! So scary!! https://t.co/O8wM3Qas9j \n",
      "\n",
      "User ID: 769146548 Time: 2021-12-27T08:56:35.000Z\n",
      "@straits_times Follow the same protocol impose for all sectors and people's too. Here CMP sector get entry approval for travel to SG,banking and IT sector just VTL, virus doesn't know affect the white collar sector and people.@sporeMOH \n",
      "\n",
      "User ID: 297266496 Time: 2021-12-27T08:49:15.000Z\n",
      "@Actarus_dEuphor @straits_times At least he didn’t lie “Mr Wong encouraged the public to get vaccinated to avoid restrictions on their movements, including not being able to go to the office.”  See, not related to stop transmission and infection, and omicron is mild, but just about “restrictions”. \n",
      "\n",
      "User ID: 1345985412192374784 Time: 2021-12-27T08:44:48.000Z\n",
      "@straits_times This dude has no shame when he says « we can weather through it together as one people. »\n",
      "\n",
      "One people??? Really?\n",
      "\n",
      "May i remind that dude that:\n",
      "- foreign kids are still excluded from the vaccination.\n",
      "- migrant workers are excluded from community.\n",
      "\n",
      "I cant stand liars. \n",
      "\n"
     ]
    }
   ],
   "source": [
    "getTweetComments(ST_conversation_data)"
   ]
  },
  {
   "cell_type": "markdown",
   "id": "2d659d08",
   "metadata": {},
   "source": [
    "# Channel NewsAsia\n",
    "## Get Tweets"
   ]
  },
  {
   "cell_type": "code",
   "execution_count": 9,
   "id": "c217e8d6",
   "metadata": {},
   "outputs": [
    {
     "name": "stdout",
     "output_type": "stream",
     "text": [
      "Tweet ID: 1476483473917415425 Time: 2021-12-30T09:19:38.000Z\n",
      "Chelsea 'not happy at all' with Brighton draw: Azpilicueta https://t.co/6DzcttyOoB https://t.co/gGt3vT26Lr \n",
      "\n",
      "Tweet ID: 1476483464148910080 Time: 2021-12-30T09:19:36.000Z\n",
      "New Zealand plan perfect Taylor farewell against Bangladesh https://t.co/hPxSR8mtCb https://t.co/Gh6mGxwhY9 \n",
      "\n",
      "Tweet ID: 1476481826487091200 Time: 2021-12-30T09:19:34.000Z\n",
      "Six and out: Boland resigned to making way for Hazlewood https://t.co/8vlUtprebT https://t.co/kujvt60ysz \n",
      "\n",
      "Tweet ID: 1476472905223401472 Time: 2021-12-30T09:19:33.000Z\n",
      "India imposes stricter rules to prevent COVID-19 spread during festive season https://t.co/VmsGJRodXh https://t.co/FeaKwBvWmH \n",
      "\n",
      "Tweet ID: 1476472895857577985 Time: 2021-12-30T09:05:35.000Z\n",
      "Actor-host Allan Wu tests positive for COVID-19 while in US https://t.co/t0XB5GbJg9 https://t.co/y6ssw6QJIM \n",
      "\n",
      "Tweet ID: 1476470888610492416 Time: 2021-12-30T09:05:33.000Z\n",
      "Samsung's Xian semiconductor plant operating normally - Chinese media https://t.co/229ovE58uZ https://t.co/gGXuf5WAIm \n",
      "\n",
      "Tweet ID: 1476463853084889092 Time: 2021-12-30T08:38:38.000Z\n",
      "Indonesia navy ship tows boat with Rohingya refugees to port https://t.co/47Wn1TOEQW https://t.co/a5c2S9zvlj \n",
      "\n",
      "Tweet ID: 1476463843572289536 Time: 2021-12-30T08:38:37.000Z\n",
      "Thai household debt-to-GDP at 89.3per cent in Q3, unchanged from Q2 https://t.co/6fH51OA3WR https://t.co/IGSbtwKqkV \n",
      "\n",
      "Tweet ID: 1476463833778581508 Time: 2021-12-30T08:38:36.000Z\n",
      "India saw record 126 tiger deaths in 2021: Data https://t.co/iAKCDsfig6 https://t.co/CeaBU4vrzM \n",
      "\n",
      "Tweet ID: 1476461942667558913 Time: 2021-12-30T08:38:34.000Z\n",
      "Man charged with allegedly abetting a former company director to cheat banks https://t.co/Hshj71BUtK https://t.co/I9woP6c5Vg \n",
      "\n"
     ]
    }
   ],
   "source": [
    "CNA_tweets = getTweets('38400130', header)\n",
    "\n",
    "for i in range(len(CNA_tweets['data'])):\n",
    "    print('Tweet ID:', CNA_tweets['data'][i]['id'],\n",
    "          'Time:', getTweetInformation(ST_tweets['data'][i]['id'], header))\n",
    "    print(CNA_tweets['data'][i]['text'], '\\n')"
   ]
  },
  {
   "cell_type": "markdown",
   "id": "4e732189",
   "metadata": {},
   "source": [
    "## Get Conversation"
   ]
  },
  {
   "cell_type": "code",
   "execution_count": 10,
   "id": "f8b8a9cb",
   "metadata": {
    "scrolled": false
   },
   "outputs": [
    {
     "name": "stdout",
     "output_type": "stream",
     "text": [
      "User ID: 1345985412192374784 Time: 2021-12-27T09:24:09.000Z\n",
      "@PGargravarr @ChannelNewsAsia The choice to vaccine them or not will remain mine.\n",
      "But as a principle, a country which has an active policy to discriminate amongst kids is just a piece of 💩. \n",
      "\n",
      "User ID: 1089207979889606661 Time: 2021-12-27T09:19:13.000Z\n",
      "@Actarus_dEuphor @ChannelNewsAsia Be happy they’re not coming after your kids… yet. \n",
      "\n",
      "User ID: 1345985412192374784 Time: 2021-12-27T09:02:41.000Z\n",
      "@ChannelNewsAsia Meanwhile foreign children are still excluded from the vaccination.\n",
      "Fk u Singapore to discriminate amongst children.\n",
      "Just f u. \n",
      "\n",
      "User ID: 2373845258 Time: 2021-12-27T08:59:28.000Z\n",
      "@ChannelNewsAsia Maddening. \n",
      "\n"
     ]
    }
   ],
   "source": [
    "CNA_conversation_data = getConversation('1475390517470896129', max_results, header)\n",
    "\n",
    "getTweetComments(CNA_conversation_data)"
   ]
  },
  {
   "cell_type": "code",
   "execution_count": null,
   "id": "8fe0477a",
   "metadata": {},
   "outputs": [],
   "source": []
  }
 ],
 "metadata": {
  "kernelspec": {
   "display_name": "Python 3",
   "language": "python",
   "name": "python3"
  },
  "language_info": {
   "codemirror_mode": {
    "name": "ipython",
    "version": 3
   },
   "file_extension": ".py",
   "mimetype": "text/x-python",
   "name": "python",
   "nbconvert_exporter": "python",
   "pygments_lexer": "ipython3",
   "version": "3.8.8"
  }
 },
 "nbformat": 4,
 "nbformat_minor": 5
}
