{
 "cells": [
  {
   "cell_type": "code",
   "execution_count": 1,
   "id": "077676d6",
   "metadata": {},
   "outputs": [],
   "source": [
    "import requests"
   ]
  },
  {
   "cell_type": "code",
   "execution_count": 2,
   "id": "ccca6841",
   "metadata": {},
   "outputs": [],
   "source": [
    "def create_headers(bearer_token):\n",
    "    headers = {\"Authorization\": \"Bearer {}\".format(bearer_token)}\n",
    "    return headers\n",
    "\n",
    "def connect_to_endpoint(url, headers, next_token = None):    \n",
    "    response = requests.request(\"GET\", url, headers = headers)\n",
    "        \n",
    "    if response.status_code != 200:\n",
    "        raise Exception(response.status_code, response.text)\n",
    "    return response.json()\n",
    "\n",
    "def getTweets(user_id, header):\n",
    "    tweets_url = f'https://api.twitter.com/2/users/{user_id}/tweets'\n",
    "    return connect_to_endpoint(tweets_url, header)\n",
    "\n",
    "def getConversation(conversation_id, max_results, header):\n",
    "    params = 'in_reply_to_user_id,author_id,created_at,conversation_id'\n",
    "    getConversation_url = f'https://api.twitter.com/2/tweets/search/recent?query=conversation_id:{conversation_id}&tweet.fields={params}&max_results={max_results}'\n",
    "\n",
    "    return connect_to_endpoint(getConversation_url, header)"
   ]
  },
  {
   "cell_type": "code",
   "execution_count": 3,
   "id": "864c4408",
   "metadata": {},
   "outputs": [],
   "source": [
    "header = create_headers('AAAAAAAAAAAAAAAAAAAAAA%2BRTAEAAAAAKLM1VoUBpVp7VsDcjKkzVHpEMlM%3D1NrtYvI3CTJP7lSY7uVrfNBOdTCrtgAvxXtoautNnQJjLI4M45')\n",
    "max_results = 30"
   ]
  },
  {
   "cell_type": "markdown",
   "id": "9cb7c6a7",
   "metadata": {},
   "source": [
    "# The Straits Times\n",
    "## Get Tweets"
   ]
  },
  {
   "cell_type": "code",
   "execution_count": 4,
   "id": "f65438d4",
   "metadata": {},
   "outputs": [
    {
     "data": {
      "text/plain": [
       "{'data': [{'id': '1475443731226513408',\n",
       "   'text': \"Jail for S'pore man who sexually assaulted girl, 17, while under probe for offences against 2 minors https://t.co/ItQqPCpRIv\"},\n",
       "  {'id': '1475428384213659654',\n",
       "   'text': 'RT @STForeignDesk: Israel tests 4th Covid-19 vaccine dose, awaits ministry green light https://t.co/oUN26y2tXB'},\n",
       "  {'id': '1475424978984050694',\n",
       "   'text': 'RT @STForeignDesk: Victims claim no help came a week after floods in Malaysia https://t.co/SKVZeYHUC1'},\n",
       "  {'id': '1475421734618628096',\n",
       "   'text': \"Building firms get 'final' 2-month extension of Covid-19 relief periods from contractual obligations https://t.co/0O1cOZsedR\"},\n",
       "  {'id': '1475421727177863168',\n",
       "   'text': \"Evening Update: Today's headlines from The Straits Times on Dec 27 https://t.co/JpjvOvOmcQ\"},\n",
       "  {'id': '1475419952765042690',\n",
       "   'text': 'RT @STForeignDesk: France weighs new Covid-19 restrictions in Omicron fight https://t.co/IkSq8IGS6O'},\n",
       "  {'id': '1475418193531338755',\n",
       "   'text': 'RT @STForeignDesk: Philippines stops issuing daily Covid-19 case bulletins https://t.co/EnRmJRMZk3'},\n",
       "  {'id': '1475418188217081857',\n",
       "   'text': \"RT @STForeignDesk: Hindu vigilante groups disrupt Christmas celebrations in India PM Modi's territory https://t.co/r0dJWAZ8Kp\"},\n",
       "  {'id': '1475413030372470788',\n",
       "   'text': 'RT @STForeignDesk: Washington Report Podcast: Top 5 biggest US headlines in 2021 https://t.co/HoqeKuK2X2'},\n",
       "  {'id': '1475411540853477383',\n",
       "   'text': \"RT @STsportsdesk: Tennis: No clarity on Djokovic's participation, with ATP Cup days away https://t.co/8hH159bQM8\"}],\n",
       " 'meta': {'oldest_id': '1475411540853477383',\n",
       "  'newest_id': '1475443731226513408',\n",
       "  'result_count': 10,\n",
       "  'next_token': '7140dibdnow9c7btw3z3q1d9t60f0kmv0hsbfwblvnak3'}}"
      ]
     },
     "execution_count": 4,
     "metadata": {},
     "output_type": "execute_result"
    }
   ],
   "source": [
    "ST_tweets = getTweets('37874853', header)\n",
    "ST_tweets"
   ]
  },
  {
   "cell_type": "code",
   "execution_count": 5,
   "id": "31aed46c",
   "metadata": {},
   "outputs": [
    {
     "name": "stdout",
     "output_type": "stream",
     "text": [
      "Tweet ID: 1475443731226513408\n",
      "Jail for S'pore man who sexually assaulted girl, 17, while under probe for offences against 2 minors https://t.co/ItQqPCpRIv \n",
      "\n",
      "Tweet ID: 1475428384213659654\n",
      "RT @STForeignDesk: Israel tests 4th Covid-19 vaccine dose, awaits ministry green light https://t.co/oUN26y2tXB \n",
      "\n",
      "Tweet ID: 1475424978984050694\n",
      "RT @STForeignDesk: Victims claim no help came a week after floods in Malaysia https://t.co/SKVZeYHUC1 \n",
      "\n",
      "Tweet ID: 1475421734618628096\n",
      "Building firms get 'final' 2-month extension of Covid-19 relief periods from contractual obligations https://t.co/0O1cOZsedR \n",
      "\n",
      "Tweet ID: 1475421727177863168\n",
      "Evening Update: Today's headlines from The Straits Times on Dec 27 https://t.co/JpjvOvOmcQ \n",
      "\n",
      "Tweet ID: 1475419952765042690\n",
      "RT @STForeignDesk: France weighs new Covid-19 restrictions in Omicron fight https://t.co/IkSq8IGS6O \n",
      "\n",
      "Tweet ID: 1475418193531338755\n",
      "RT @STForeignDesk: Philippines stops issuing daily Covid-19 case bulletins https://t.co/EnRmJRMZk3 \n",
      "\n",
      "Tweet ID: 1475418188217081857\n",
      "RT @STForeignDesk: Hindu vigilante groups disrupt Christmas celebrations in India PM Modi's territory https://t.co/r0dJWAZ8Kp \n",
      "\n",
      "Tweet ID: 1475413030372470788\n",
      "RT @STForeignDesk: Washington Report Podcast: Top 5 biggest US headlines in 2021 https://t.co/HoqeKuK2X2 \n",
      "\n",
      "Tweet ID: 1475411540853477383\n",
      "RT @STsportsdesk: Tennis: No clarity on Djokovic's participation, with ATP Cup days away https://t.co/8hH159bQM8 \n",
      "\n"
     ]
    }
   ],
   "source": [
    "for i in range(len(ST_tweets['data'])):\n",
    "    print('Tweet ID:', ST_tweets['data'][i]['id'])\n",
    "    print(ST_tweets['data'][i]['text'], '\\n')"
   ]
  },
  {
   "cell_type": "code",
   "execution_count": 6,
   "id": "ddca8f97",
   "metadata": {
    "scrolled": false
   },
   "outputs": [],
   "source": [
    "# query = '@straits_times'\n",
    "# tweets_url = f'https://api.twitter.com/2/tweets/search/recent?query={query}&max_results={max_results}'\n",
    "# connect_to_endpoint(tweets_url, header)"
   ]
  },
  {
   "cell_type": "markdown",
   "id": "b28060ce",
   "metadata": {},
   "source": [
    "## Get Conversation"
   ]
  },
  {
   "cell_type": "code",
   "execution_count": 7,
   "id": "db2df352",
   "metadata": {
    "scrolled": false
   },
   "outputs": [],
   "source": [
    "ST_conversation_data = getConversation('1475383966832021504', max_results, header)"
   ]
  },
  {
   "cell_type": "code",
   "execution_count": 8,
   "id": "a2d1c125",
   "metadata": {},
   "outputs": [
    {
     "name": "stdout",
     "output_type": "stream",
     "text": [
      "User ID: 1475437694180155401\n",
      "@straits_times No worries!\n",
      "We are ready! \n",
      "\n",
      "User ID: 1475430068549787649\n",
      "@straits_times The new wave is Meriton! \n",
      "\n",
      "User ID: 1475422389479481345\n",
      "@andyqkw @straits_times Closing the Singapore borders is like closing ur anus: u think it works short-term but, trust me, eventually it will be a disaster full of sht. \n",
      "\n",
      "User ID: 1475421993499455488\n",
      "@syafiqachu @straits_times U close borders: singapore dies. Right now, it is already a zombie. \n",
      "\n",
      "User ID: 1475414730046984193\n",
      "@straits_times Expected lah 🤣🤣🤣failed again🤣🤣🤣 \n",
      "\n",
      "User ID: 1475412307333185539\n",
      "@straits_times If you expect disappointment, then you can never be truly disappointed. -Michelle Jones Watson \n",
      "\n",
      "User ID: 1475411612454449154\n",
      "@andyqkw @straits_times https://t.co/dUuxCRDh8P \n",
      "\n",
      "User ID: 1475410844317995009\n",
      "@straits_times Live with virus, right? All the while expecting new waves, just when... \n",
      "\n",
      "User ID: 1475410770720542721\n",
      "@syafiqachu @straits_times How did closing borders work for Japan? Oh it didn’t. The same way it would have been a failure for us. \n",
      "https://t.co/G2s6LlNozA \n",
      "\n",
      "User ID: 1475409461216890883\n",
      "@straits_times Government wants Singaporean to expect new wave when they themself refuses to close the border in timely manner. Whose fault is it actually? \n",
      "\n",
      "User ID: 1475409327003299842\n",
      "@FarieRose @straits_times It will be long over by then. \n",
      "\n",
      "User ID: 1475408402851368961\n",
      "@straits_times Welcome back from your vacation; and the souvenir is ...... \n",
      "\n",
      "User ID: 1475405497738022913\n",
      "@syafiqachu @straits_times Govt can’t fund Singapore airlines forever. Open up fully \n",
      "\n",
      "User ID: 1475403340901011457\n",
      "@straits_times Multi ministry force fail \n",
      "\n",
      "User ID: 1475403290464587776\n",
      "@straits_times S'pore must expect new wave of Covid-19 cases in coming days due to Omicron leaking in due to our failure to close border: Lorenzo Wang \n",
      "\n",
      "User ID: 1475400633410678785\n",
      "@straits_times Just in time in for Ramadan and Eid \n",
      "\n",
      "User ID: 1475394079827456000\n",
      "@straits_times https://t.co/4uV0sYCxqQ \n",
      "\n",
      "User ID: 1475391196998430722\n",
      "@straits_times I think Lawrence Wong needs to be prepared, not us. \n",
      "\n",
      "User ID: 1475390989208481793\n",
      "@straits_times A wave of people with runny nose!! So scary!! https://t.co/O8wM3Qas9j \n",
      "\n",
      "User ID: 1475390138309959681\n",
      "@straits_times Follow the same protocol impose for all sectors and people's too. Here CMP sector get entry approval for travel to SG,banking and IT sector just VTL, virus doesn't know affect the white collar sector and people.@sporeMOH \n",
      "\n",
      "User ID: 1475388293814444032\n",
      "@Actarus_dEuphor @straits_times At least he didn’t lie “Mr Wong encouraged the public to get vaccinated to avoid restrictions on their movements, including not being able to go to the office.”  See, not related to stop transmission and infection, and omicron is mild, but just about “restrictions”. \n",
      "\n",
      "User ID: 1475387173515919366\n",
      "@straits_times This dude has no shame when he says « we can weather through it together as one people. »\n",
      "\n",
      "One people??? Really?\n",
      "\n",
      "May i remind that dude that:\n",
      "- foreign kids are still excluded from the vaccination.\n",
      "- migrant workers are excluded from community.\n",
      "\n",
      "I cant stand liars. \n",
      "\n",
      "User ID: 1475385654477406209\n",
      "@straits_times Just end all this already!! You world govts ain't doing ur job and just let the fucking thing drag on way longer than it should have!! END THIS NOW YOU FOOL!!! \n",
      "\n"
     ]
    }
   ],
   "source": [
    "for i in range(len(ST_conversation_data['data'])):\n",
    "    print('User ID:', ST_conversation_data['data'][i]['id'])\n",
    "    print(ST_conversation_data['data'][i]['text'], '\\n')"
   ]
  },
  {
   "cell_type": "markdown",
   "id": "2d659d08",
   "metadata": {},
   "source": [
    "# Channel NewsAsia\n",
    "## Get Tweets"
   ]
  },
  {
   "cell_type": "code",
   "execution_count": 9,
   "id": "c217e8d6",
   "metadata": {},
   "outputs": [
    {
     "name": "stdout",
     "output_type": "stream",
     "text": [
      "Tweet ID: 1475442859423588360\n",
      "Shiffrin tests positive for COVID-19, to miss Lienz Ski World Cup races https://t.co/sYvI6UJpLt https://t.co/Pemc6r9rtv \n",
      "\n",
      "Tweet ID: 1475441088819204097\n",
      "Starboard acquires stake worth US$800 million in GoDaddy - WSJ https://t.co/UbIA5EYivh https://t.co/EYaQc1LQzS \n",
      "\n",
      "Tweet ID: 1475439079521075201\n",
      "Indonesia president launches US$2.7 billion China-backed ferronickel plant https://t.co/XRbSdkZUcX https://t.co/qx8stG7aOH \n",
      "\n",
      "Tweet ID: 1475435704209473538\n",
      "New UN Myanmar envoy 'deeply concerned' by escalating violence https://t.co/Y8M5ktZ8Lj https://t.co/JedHHd87aE \n",
      "\n",
      "Tweet ID: 1475435693576884225\n",
      "Iran to announce new ambassador in Yemen after predecessor's death https://t.co/to53g9U8CX https://t.co/pPRvDW734h \n",
      "\n",
      "Tweet ID: 1475435683841921027\n",
      "Alpine skiing-Shiffrin tests positive for COVID-19, to miss Lienz https://t.co/WN0ljQYIIL https://t.co/akDuNItoTz \n",
      "\n",
      "Tweet ID: 1475431907517091840\n",
      "'Dallas Buyers Club' director Jean-Marc Vallée dead at 58 https://t.co/BLKIdgMMwG https://t.co/sOW7jMVBDj \n",
      "\n",
      "Tweet ID: 1475429528260341766\n",
      "China Huarong sells 70% stake in its consumer finance unit to Bank of Ningbo https://t.co/OFAWzzMa2U https://t.co/O3LLnwULdX \n",
      "\n",
      "Tweet ID: 1475424492725817344\n",
      "Chinese citizens slam Musk online after space station near-misses https://t.co/IX0D83yvAB https://t.co/wSmbxv1USd \n",
      "\n",
      "Tweet ID: 1475424483653476359\n",
      "Hindu vigilante groups disrupt Christmas celebrations on Modi territory https://t.co/pCTWilq9tR https://t.co/K5eDb0FV8C \n",
      "\n"
     ]
    }
   ],
   "source": [
    "CNA_tweets = getTweets('38400130', header)\n",
    "\n",
    "for i in range(len(CNA_tweets['data'])):\n",
    "    print('Tweet ID:', CNA_tweets['data'][i]['id'])\n",
    "    print(CNA_tweets['data'][i]['text'], '\\n')"
   ]
  },
  {
   "cell_type": "markdown",
   "id": "4e732189",
   "metadata": {},
   "source": [
    "## Get Conversation"
   ]
  },
  {
   "cell_type": "code",
   "execution_count": 10,
   "id": "f8b8a9cb",
   "metadata": {
    "scrolled": false
   },
   "outputs": [
    {
     "name": "stdout",
     "output_type": "stream",
     "text": [
      "User ID: 1475397076980699137\n",
      "@PGargravarr @ChannelNewsAsia The choice to vaccine them or not will remain mine.\n",
      "But as a principle, a country which has an active policy to discriminate amongst kids is just a piece of 💩. \n",
      "\n",
      "User ID: 1475395837777702913\n",
      "@Actarus_dEuphor @ChannelNewsAsia Be happy they’re not coming after your kids… yet. \n",
      "\n",
      "User ID: 1475391674578726912\n",
      "@ChannelNewsAsia Meanwhile foreign children are still excluded from the vaccination.\n",
      "Fk u Singapore to discriminate amongst children.\n",
      "Just f u. \n",
      "\n",
      "User ID: 1475390865883365377\n",
      "@ChannelNewsAsia Maddening. \n",
      "\n"
     ]
    }
   ],
   "source": [
    "CNA_conversation_data = getConversation('1475390517470896129', max_results, header)\n",
    "\n",
    "for i in range(len(CNA_conversation_data['data'])):\n",
    "    print('User ID:', CNA_conversation_data['data'][i]['id'])\n",
    "    print(CNA_conversation_data['data'][i]['text'], '\\n')"
   ]
  },
  {
   "cell_type": "code",
   "execution_count": null,
   "id": "1ed8dc85",
   "metadata": {},
   "outputs": [],
   "source": []
  }
 ],
 "metadata": {
  "kernelspec": {
   "display_name": "Python 3",
   "language": "python",
   "name": "python3"
  },
  "language_info": {
   "codemirror_mode": {
    "name": "ipython",
    "version": 3
   },
   "file_extension": ".py",
   "mimetype": "text/x-python",
   "name": "python",
   "nbconvert_exporter": "python",
   "pygments_lexer": "ipython3",
   "version": "3.8.8"
  }
 },
 "nbformat": 4,
 "nbformat_minor": 5
}
