{
 "cells": [
  {
   "cell_type": "code",
   "execution_count": 1,
   "id": "077676d6",
   "metadata": {},
   "outputs": [],
   "source": [
    "import requests"
   ]
  },
  {
   "cell_type": "code",
   "execution_count": 2,
   "id": "ccca6841",
   "metadata": {},
   "outputs": [],
   "source": [
    "def create_headers(bearer_token):\n",
    "    headers = {\"Authorization\": \"Bearer {}\".format(bearer_token)}\n",
    "    return headers\n",
    "\n",
    "def connect_to_endpoint(url, headers, next_token = None):    \n",
    "    response = requests.request(\"GET\", url, headers = headers)\n",
    "        \n",
    "    if response.status_code != 200:\n",
    "        raise Exception(response.status_code, response.text)\n",
    "    return response.json()\n",
    "\n",
    "def getTweets(user_id, header):\n",
    "    tweets_url = f'https://api.twitter.com/2/users/{user_id}/tweets'\n",
    "    return connect_to_endpoint(tweets_url, header)\n",
    "\n",
    "def getConversation(conversation_id, max_results, header):\n",
    "    params = 'in_reply_to_user_id,author_id,created_at,conversation_id'\n",
    "    getConversation_url = f'https://api.twitter.com/2/tweets/search/recent?query=conversation_id:{conversation_id}&tweet.fields={params}&max_results={max_results}'\n",
    "\n",
    "    return connect_to_endpoint(getConversation_url, header)"
   ]
  },
  {
   "cell_type": "code",
   "execution_count": 3,
   "id": "864c4408",
   "metadata": {},
   "outputs": [],
   "source": [
    "header = create_headers('AAAAAAAAAAAAAAAAAAAAAA%2BRTAEAAAAAKLM1VoUBpVp7VsDcjKkzVHpEMlM%3D1NrtYvI3CTJP7lSY7uVrfNBOdTCrtgAvxXtoautNnQJjLI4M45')\n",
    "max_results = 30"
   ]
  },
  {
   "cell_type": "markdown",
   "id": "9cb7c6a7",
   "metadata": {},
   "source": [
    "# The Straits Times\n",
    "## Get Tweets"
   ]
  },
  {
   "cell_type": "code",
   "execution_count": 4,
   "id": "f65438d4",
   "metadata": {},
   "outputs": [
    {
     "data": {
      "text/plain": [
       "{'data': [{'id': '1476034262713311235',\n",
       "   'text': \"RT @ST_LifeTweets: Lady Gaga makes House Of Gucci's murderous villain 'a real woman' https://t.co/BDnhFnpyLt\"},\n",
       "  {'id': '1476034255666876422',\n",
       "   'text': 'RT @ST_LifeTweets: Huggs-Epigram Coffee Bookshop to reopen at URA Centre on Jan 6 https://t.co/mDEzIrvDy1'},\n",
       "  {'id': '1476032486308077570',\n",
       "   'text': 'RT @STForeignDesk: Former US Senate majority leader Harry Reid dies at age 82 https://t.co/SX42b8AGqg'},\n",
       "  {'id': '1476030732145364995',\n",
       "   'text': 'RT @STForeignDesk: Trash for rice: Bali recycling scheme gives families pandemic lifeline https://t.co/OxgSAYwWyH'},\n",
       "  {'id': '1476030725015015426',\n",
       "   'text': 'RT @stbusinessdesk: Malaysia charges oil &amp; gas firm Serba Dinamik, seeks arrest of CEO https://t.co/JsgGMtRSaU'},\n",
       "  {'id': '1476025692747747329',\n",
       "   'text': \"RT @STForeignDesk: Baked Alaska, 'Icemageddon' - record December warmth and winter rains https://t.co/hich5jZIjN\"},\n",
       "  {'id': '1476025565685583873',\n",
       "   'text': \"Despite Covid-19 uncertainty, Singaporeans need not live in 'climate of paralysing fear': President Halimah https://t.co/8cnvUrwN4H\"},\n",
       "  {'id': '1476022553093316609',\n",
       "   'text': 'RT @STForeignDesk: Effective anti-discrimination protections needed for minorities: Jakarta Post contributors https://t.co/ooDmY888sa'},\n",
       "  {'id': '1476022545191034880',\n",
       "   'text': 'RT @STForeignDesk: Palpable absences in disaster preparedness: Inquirer https://t.co/2yovWdO857'},\n",
       "  {'id': '1476019149247684611',\n",
       "   'text': \"RT @ST_LifeTweets: Hot Bods: 'Not a fan of rice and quinoa is my go-to carb' https://t.co/av2XaEtU09\"}],\n",
       " 'meta': {'oldest_id': '1476019149247684611',\n",
       "  'newest_id': '1476034262713311235',\n",
       "  'result_count': 10,\n",
       "  'next_token': '7140dibdnow9c7btw3z3q3gssu6d2ky5u75nmsvu7lyk1'}}"
      ]
     },
     "execution_count": 4,
     "metadata": {},
     "output_type": "execute_result"
    }
   ],
   "source": [
    "ST_tweets = getTweets('37874853', header)\n",
    "ST_tweets"
   ]
  },
  {
   "cell_type": "code",
   "execution_count": 5,
   "id": "31aed46c",
   "metadata": {},
   "outputs": [
    {
     "name": "stdout",
     "output_type": "stream",
     "text": [
      "Tweet ID: 1476034262713311235\n",
      "RT @ST_LifeTweets: Lady Gaga makes House Of Gucci's murderous villain 'a real woman' https://t.co/BDnhFnpyLt \n",
      "\n",
      "Tweet ID: 1476034255666876422\n",
      "RT @ST_LifeTweets: Huggs-Epigram Coffee Bookshop to reopen at URA Centre on Jan 6 https://t.co/mDEzIrvDy1 \n",
      "\n",
      "Tweet ID: 1476032486308077570\n",
      "RT @STForeignDesk: Former US Senate majority leader Harry Reid dies at age 82 https://t.co/SX42b8AGqg \n",
      "\n",
      "Tweet ID: 1476030732145364995\n",
      "RT @STForeignDesk: Trash for rice: Bali recycling scheme gives families pandemic lifeline https://t.co/OxgSAYwWyH \n",
      "\n",
      "Tweet ID: 1476030725015015426\n",
      "RT @stbusinessdesk: Malaysia charges oil &amp; gas firm Serba Dinamik, seeks arrest of CEO https://t.co/JsgGMtRSaU \n",
      "\n",
      "Tweet ID: 1476025692747747329\n",
      "RT @STForeignDesk: Baked Alaska, 'Icemageddon' - record December warmth and winter rains https://t.co/hich5jZIjN \n",
      "\n",
      "Tweet ID: 1476025565685583873\n",
      "Despite Covid-19 uncertainty, Singaporeans need not live in 'climate of paralysing fear': President Halimah https://t.co/8cnvUrwN4H \n",
      "\n",
      "Tweet ID: 1476022553093316609\n",
      "RT @STForeignDesk: Effective anti-discrimination protections needed for minorities: Jakarta Post contributors https://t.co/ooDmY888sa \n",
      "\n",
      "Tweet ID: 1476022545191034880\n",
      "RT @STForeignDesk: Palpable absences in disaster preparedness: Inquirer https://t.co/2yovWdO857 \n",
      "\n",
      "Tweet ID: 1476019149247684611\n",
      "RT @ST_LifeTweets: Hot Bods: 'Not a fan of rice and quinoa is my go-to carb' https://t.co/av2XaEtU09 \n",
      "\n"
     ]
    }
   ],
   "source": [
    "for i in range(len(ST_tweets['data'])):\n",
    "    print('Tweet ID:', ST_tweets['data'][i]['id'])\n",
    "    print(ST_tweets['data'][i]['text'], '\\n')"
   ]
  },
  {
   "cell_type": "code",
   "execution_count": 6,
   "id": "ddca8f97",
   "metadata": {
    "scrolled": false
   },
   "outputs": [],
   "source": [
    "# query = '@straits_times'\n",
    "# tweets_url = f'https://api.twitter.com/2/tweets/search/recent?query={query}&max_results={max_results}'\n",
    "# connect_to_endpoint(tweets_url, header)"
   ]
  },
  {
   "cell_type": "markdown",
   "id": "b28060ce",
   "metadata": {},
   "source": [
    "## Get Conversation"
   ]
  },
  {
   "cell_type": "code",
   "execution_count": 7,
   "id": "db2df352",
   "metadata": {
    "scrolled": false
   },
   "outputs": [],
   "source": [
    "ST_conversation_data = getConversation('1475383966832021504', max_results, header)"
   ]
  },
  {
   "cell_type": "code",
   "execution_count": 8,
   "id": "a2d1c125",
   "metadata": {
    "scrolled": true
   },
   "outputs": [
    {
     "name": "stdout",
     "output_type": "stream",
     "text": [
      "User ID: 1476018984134713348\n",
      "@straits_times Omicron was brought in for a reason, to provide justifications for the jabs and the highly discriminating measures that will subsequently follow against the “unvaccinated”.\n",
      "\n",
      "Let’s not blame the new wave on omicron, if you follow the timeline closely, you’d know the cause of it. \n",
      "\n",
      "User ID: 1475657034267721732\n",
      "@straits_times Asean Chairman is the Dictator Hon San and Do not let Asean image spoiled by Dictator. https://t.co/npUeQEvEwA \n",
      "\n",
      "User ID: 1475514062515564549\n",
      "@hdbeuejdh @FarieRose Bwa hahaha!!!  You wait long long lah! \n",
      "\n",
      "User ID: 1475488886667104257\n",
      "@straits_times To summarize.\n",
      "Not severe. Can recover yourself.\n",
      "BUT MUST get vaccinated.\n",
      "CALL YOURSELF EXPERTS\n",
      "REPEAT REPEAT REPEAT.\n",
      "Going to be 3 years like this.\n",
      "Never meant to end. \n",
      "\n",
      "User ID: 1475463323370110982\n",
      "@straits_times You cannot end this!  What has to happen to slow its spread is to vaccinate the world or else new variants are going to emerge. Imagine a Singapore variant called chendol!!! \n",
      "\n",
      "User ID: 1475462921085931523\n",
      "@Exbb651 @straits_times Lah La La La La La. It's not a failure on anybody's part it's the virus which can't be defeated no matter what you do. So the govts approach to live with the virus was the right approach. It's how to mitigate the risk that's key!! Entiende ? \n",
      "\n",
      "User ID: 1475462466352074757\n",
      "@andyqkw @straits_times You cannot close the darned border. You have community spread and some people dig their nose and stick the nasty onto stair railings and of then others hold these railings and scratch their faces. Voila there you have it! \n",
      "\n",
      "User ID: 1475461677940457481\n",
      "@straits_times I could have told you that. Gee \n",
      "\n",
      "User ID: 1475437694180155401\n",
      "@straits_times No worries!\n",
      "We are ready! \n",
      "\n",
      "User ID: 1475430068549787649\n",
      "@straits_times The new wave is Meriton! \n",
      "\n",
      "User ID: 1475422389479481345\n",
      "@andyqkw @straits_times Closing the Singapore borders is like closing ur anus: u think it works short-term but, trust me, eventually it will be a disaster full of sht. \n",
      "\n",
      "User ID: 1475421993499455488\n",
      "@syafiqachu @straits_times U close borders: singapore dies. Right now, it is already a zombie. \n",
      "\n",
      "User ID: 1475414730046984193\n",
      "@straits_times Expected lah 🤣🤣🤣failed again🤣🤣🤣 \n",
      "\n",
      "User ID: 1475412307333185539\n",
      "@straits_times If you expect disappointment, then you can never be truly disappointed. -Michelle Jones Watson \n",
      "\n",
      "User ID: 1475411612454449154\n",
      "@andyqkw @straits_times https://t.co/dUuxCRDh8P \n",
      "\n",
      "User ID: 1475410844317995009\n",
      "@straits_times Live with virus, right? All the while expecting new waves, just when... \n",
      "\n",
      "User ID: 1475410770720542721\n",
      "@syafiqachu @straits_times How did closing borders work for Japan? Oh it didn’t. The same way it would have been a failure for us. \n",
      "https://t.co/G2s6LlNozA \n",
      "\n",
      "User ID: 1475409461216890883\n",
      "@straits_times Government wants Singaporean to expect new wave when they themself refuses to close the border in timely manner. Whose fault is it actually? \n",
      "\n",
      "User ID: 1475409327003299842\n",
      "@FarieRose @straits_times It will be long over by then. \n",
      "\n",
      "User ID: 1475408402851368961\n",
      "@straits_times Welcome back from your vacation; and the souvenir is ...... \n",
      "\n",
      "User ID: 1475405497738022913\n",
      "@syafiqachu @straits_times Govt can’t fund Singapore airlines forever. Open up fully \n",
      "\n",
      "User ID: 1475403340901011457\n",
      "@straits_times Multi ministry force fail \n",
      "\n",
      "User ID: 1475403290464587776\n",
      "@straits_times S'pore must expect new wave of Covid-19 cases in coming days due to Omicron leaking in due to our failure to close border: Lorenzo Wang \n",
      "\n",
      "User ID: 1475400633410678785\n",
      "@straits_times Just in time in for Ramadan and Eid \n",
      "\n",
      "User ID: 1475394079827456000\n",
      "@straits_times https://t.co/4uV0sYCxqQ \n",
      "\n",
      "User ID: 1475391196998430722\n",
      "@straits_times I think Lawrence Wong needs to be prepared, not us. \n",
      "\n",
      "User ID: 1475390989208481793\n",
      "@straits_times A wave of people with runny nose!! So scary!! https://t.co/O8wM3Qas9j \n",
      "\n",
      "User ID: 1475390138309959681\n",
      "@straits_times Follow the same protocol impose for all sectors and people's too. Here CMP sector get entry approval for travel to SG,banking and IT sector just VTL, virus doesn't know affect the white collar sector and people.@sporeMOH \n",
      "\n",
      "User ID: 1475388293814444032\n",
      "@Actarus_dEuphor @straits_times At least he didn’t lie “Mr Wong encouraged the public to get vaccinated to avoid restrictions on their movements, including not being able to go to the office.”  See, not related to stop transmission and infection, and omicron is mild, but just about “restrictions”. \n",
      "\n",
      "User ID: 1475387173515919366\n",
      "@straits_times This dude has no shame when he says « we can weather through it together as one people. »\n",
      "\n",
      "One people??? Really?\n",
      "\n",
      "May i remind that dude that:\n",
      "- foreign kids are still excluded from the vaccination.\n",
      "- migrant workers are excluded from community.\n",
      "\n",
      "I cant stand liars. \n",
      "\n"
     ]
    }
   ],
   "source": [
    "for i in range(len(ST_conversation_data['data'])):\n",
    "    print('User ID:', ST_conversation_data['data'][i]['id'])\n",
    "    print(ST_conversation_data['data'][i]['text'], '\\n')"
   ]
  },
  {
   "cell_type": "markdown",
   "id": "2d659d08",
   "metadata": {},
   "source": [
    "# Channel NewsAsia\n",
    "## Get Tweets"
   ]
  },
  {
   "cell_type": "code",
   "execution_count": 9,
   "id": "c217e8d6",
   "metadata": {},
   "outputs": [
    {
     "name": "stdout",
     "output_type": "stream",
     "text": [
      "Tweet ID: 1476038299026292739\n",
      "Kareem Abdul-Jabbar criticizes LeBron James' COVID meme https://t.co/QKdD17e1O4 https://t.co/FXDJgmCCxd \n",
      "\n",
      "Tweet ID: 1476038289580650499\n",
      "China approves building four data centre clusters https://t.co/APFoZfHpFy https://t.co/Rh6NNPSY7w \n",
      "\n",
      "Tweet ID: 1476038280164438016\n",
      "China raises import quota for Australian wool in 2022 https://t.co/OjclhWVwR5 https://t.co/HdFdhLro2D \n",
      "\n",
      "Tweet ID: 1476036644830515203\n",
      "Hong Kong Nov home prices drop for 2nd month, softening from peak https://t.co/M2kNOWvcrz https://t.co/xbULSoCs4U \n",
      "\n",
      "Tweet ID: 1476034633749786626\n",
      "China plans new participants, derivatives in carbon trading market: Shanghai Sec News https://t.co/TSb6y7XmGx https://t.co/rj6nA90ZFG \n",
      "\n",
      "Tweet ID: 1476031239614185473\n",
      "China copper smelters set Q1 2022 TC/RC floor at US$70/T, 7 cents/pound https://t.co/nZW6G1Udhp https://t.co/JWXaneMXv1 \n",
      "\n",
      "Tweet ID: 1476031229275242497\n",
      "Malaysian securities regulator charges Serba Dinamik, seeks arrest of CEO https://t.co/hFYyVkiJAC https://t.co/FarlL1DBIW \n",
      "\n",
      "Tweet ID: 1476029477167644679\n",
      "Chilean scientists study climate change at 'end of the world' https://t.co/R5IvTjYakw https://t.co/ez2DFoQPCS \n",
      "\n",
      "Tweet ID: 1476029468032450562\n",
      "Tuchel says Chelsea still struggling with injury, COVID https://t.co/jT73LEegwi https://t.co/tUVhdgfAZR \n",
      "\n",
      "Tweet ID: 1476024069472468993\n",
      "Vietnam 2021 exports up 19per cent, industrial output up 4.8per cent https://t.co/C3W4plbyjb https://t.co/0pkHpDcrOb \n",
      "\n"
     ]
    }
   ],
   "source": [
    "CNA_tweets = getTweets('38400130', header)\n",
    "\n",
    "for i in range(len(CNA_tweets['data'])):\n",
    "    print('Tweet ID:', CNA_tweets['data'][i]['id'])\n",
    "    print(CNA_tweets['data'][i]['text'], '\\n')"
   ]
  },
  {
   "cell_type": "markdown",
   "id": "4e732189",
   "metadata": {},
   "source": [
    "## Get Conversation"
   ]
  },
  {
   "cell_type": "code",
   "execution_count": 10,
   "id": "f8b8a9cb",
   "metadata": {
    "scrolled": false
   },
   "outputs": [
    {
     "name": "stdout",
     "output_type": "stream",
     "text": [
      "User ID: 1475397076980699137\n",
      "@PGargravarr @ChannelNewsAsia The choice to vaccine them or not will remain mine.\n",
      "But as a principle, a country which has an active policy to discriminate amongst kids is just a piece of 💩. \n",
      "\n",
      "User ID: 1475395837777702913\n",
      "@Actarus_dEuphor @ChannelNewsAsia Be happy they’re not coming after your kids… yet. \n",
      "\n",
      "User ID: 1475391674578726912\n",
      "@ChannelNewsAsia Meanwhile foreign children are still excluded from the vaccination.\n",
      "Fk u Singapore to discriminate amongst children.\n",
      "Just f u. \n",
      "\n",
      "User ID: 1475390865883365377\n",
      "@ChannelNewsAsia Maddening. \n",
      "\n"
     ]
    }
   ],
   "source": [
    "CNA_conversation_data = getConversation('1475390517470896129', max_results, header)\n",
    "\n",
    "for i in range(len(CNA_conversation_data['data'])):\n",
    "    print('User ID:', CNA_conversation_data['data'][i]['id'])\n",
    "    print(CNA_conversation_data['data'][i]['text'], '\\n')"
   ]
  },
  {
   "cell_type": "code",
   "execution_count": null,
   "id": "1ed8dc85",
   "metadata": {},
   "outputs": [],
   "source": []
  }
 ],
 "metadata": {
  "kernelspec": {
   "display_name": "Python 3",
   "language": "python",
   "name": "python3"
  },
  "language_info": {
   "codemirror_mode": {
    "name": "ipython",
    "version": 3
   },
   "file_extension": ".py",
   "mimetype": "text/x-python",
   "name": "python",
   "nbconvert_exporter": "python",
   "pygments_lexer": "ipython3",
   "version": "3.8.8"
  }
 },
 "nbformat": 4,
 "nbformat_minor": 5
}
